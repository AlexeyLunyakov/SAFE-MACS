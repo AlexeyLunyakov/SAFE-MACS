{
 "cells": [
  {
   "cell_type": "markdown",
   "metadata": {},
   "source": [
    "## Train RT-DETR with Ultralytics"
   ]
  },
  {
   "cell_type": "code",
   "execution_count": null,
   "metadata": {},
   "outputs": [],
   "source": [
    "import torch\n",
    "from ultralytics import RTDETR\n",
    "torch.cuda.is_available()"
   ]
  },
  {
   "cell_type": "code",
   "execution_count": null,
   "metadata": {},
   "outputs": [],
   "source": [
    "def model_train(**args):\n",
    "    model = RTDETR(\"rtdetr-l.pt\")  \n",
    "       \n",
    "    train_results = model.train(\n",
    "        data=args['data'],\n",
    "        epochs=args['epochs'],\n",
    "        batch=args['batch_size'],\n",
    "        imgsz=640,\n",
    "        device=0,\n",
    "    )\n",
    "    return model"
   ]
  },
  {
   "cell_type": "code",
   "execution_count": null,
   "metadata": {},
   "outputs": [],
   "source": [
    "%ls ..\\\\..\\\\data\\\\mppe-custom-set.v3i.yolov11"
   ]
  },
  {
   "cell_type": "code",
   "execution_count": null,
   "metadata": {},
   "outputs": [],
   "source": [
    "model = model_train(\n",
    "    data='D:\\\\Work\\\\coding\\\\vuzz\\\\new\\\\MIREA_7_semester_VT\\\\rsppr\\\\SAFE-MACS\\\\data\\\\mppe-custom-set.v4i.yolov11\\\\data.yaml', \n",
    "    epochs=1, \n",
    "    batch_size=8)\n"
   ]
  },
  {
   "cell_type": "code",
   "execution_count": null,
   "metadata": {},
   "outputs": [],
   "source": [
    "torch.cuda.empty_cache()"
   ]
  },
  {
   "cell_type": "code",
   "execution_count": null,
   "metadata": {},
   "outputs": [],
   "source": [
    "metrics = model.val()"
   ]
  },
  {
   "cell_type": "code",
   "execution_count": null,
   "metadata": {},
   "outputs": [],
   "source": [
    "results = model(\"D:\\\\Work\\\\coding\\\\vuzz\\\\new\\\\MIREA_7_semester_VT\\\\rsppr\\\\SAFE-MACS\\\\data\\\\mppe-custom-set.v4i.yolov11\\\\test\\\\images\\\\1_PNG.rf.e06160d04e3329b9f296811817241dfe.jpg\")\n",
    "results[0].show()"
   ]
  }
 ],
 "metadata": {
  "kernelspec": {
   "display_name": ".venv",
   "language": "python",
   "name": "python3"
  },
  "language_info": {
   "codemirror_mode": {
    "name": "ipython",
    "version": 3
   },
   "file_extension": ".py",
   "mimetype": "text/x-python",
   "name": "python",
   "nbconvert_exporter": "python",
   "pygments_lexer": "ipython3",
   "version": "3.11.7"
  }
 },
 "nbformat": 4,
 "nbformat_minor": 2
}

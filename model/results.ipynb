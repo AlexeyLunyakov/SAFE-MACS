{
 "cells": [
  {
   "cell_type": "markdown",
   "metadata": {},
   "source": [
    "## Results of model training"
   ]
  },
  {
   "cell_type": "markdown",
   "metadata": {},
   "source": [
    "Model | params | epochs | F1 | map50 | map50-95 | data |\n",
    "--- |:---:|:---:|:---:|:---:|:---:|:---:|\n",
    "yolo11-l | 25.3 M | 20 | 0.71 at 0.305 | 0.74 | 0.447 | (old data - 1017)\n",
    "rt-detr-l | 32 М | 10 | 0.75 at 0.409 | 0.77 | 0.467 | (old data - 1017)\n",
    "yolo11-x | 56.9 M | 100 | 0.81 at 0.385 | 0.83 | 0.557 | (new data - 4055 no preprocess)\n",
    "yolo11-x | 56.9 M | 100 | 0.-- at 0.--- | 0.-- | 0.--- | (new data - 4055 with preprocess)\n",
    "rt-detr-v1-l | 42 М | 50 | 0.-- at 0.--- | 0.-- | 0.--- | (new data - 4055)\n"
   ]
  }
 ],
 "metadata": {
  "language_info": {
   "name": "python"
  }
 },
 "nbformat": 4,
 "nbformat_minor": 2
}

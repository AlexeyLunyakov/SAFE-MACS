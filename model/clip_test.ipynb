{
 "cells": [
  {
   "cell_type": "code",
   "execution_count": 1,
   "metadata": {},
   "outputs": [
    {
     "name": "stdout",
     "output_type": "stream",
     "text": [
      "Collecting git+https://github.com/openai/CLIP.git\n",
      "  Cloning https://github.com/openai/CLIP.git to c:\\users\\user\\appdata\\local\\temp\\pip-req-build-mhxuf5ha\n",
      "  Resolved https://github.com/openai/CLIP.git to commit dcba3cb2e2827b402d2701e7e1c7d9fed8a20ef1\n",
      "  Installing build dependencies: started\n",
      "  Installing build dependencies: finished with status 'done'\n",
      "  Getting requirements to build wheel: started\n",
      "  Getting requirements to build wheel: finished with status 'done'\n",
      "  Preparing metadata (pyproject.toml): started\n",
      "  Preparing metadata (pyproject.toml): finished with status 'done'\n",
      "Collecting ftfy (from clip==1.0)\n",
      "  Downloading ftfy-6.3.1-py3-none-any.whl.metadata (7.3 kB)\n",
      "Requirement already satisfied: packaging in d:\\work\\coding\\vuzz\\new\\mirea_7_semester_vt\\rsppr\\safe-macs\\.venv\\lib\\site-packages (from clip==1.0) (24.1)\n",
      "Collecting regex (from clip==1.0)\n",
      "  Downloading regex-2024.9.11-cp311-cp311-win_amd64.whl.metadata (41 kB)\n",
      "Requirement already satisfied: tqdm in d:\\work\\coding\\vuzz\\new\\mirea_7_semester_vt\\rsppr\\safe-macs\\.venv\\lib\\site-packages (from clip==1.0) (4.66.5)\n",
      "Requirement already satisfied: torch in d:\\work\\coding\\vuzz\\new\\mirea_7_semester_vt\\rsppr\\safe-macs\\.venv\\lib\\site-packages (from clip==1.0) (2.5.0+cu124)\n",
      "Requirement already satisfied: torchvision in d:\\work\\coding\\vuzz\\new\\mirea_7_semester_vt\\rsppr\\safe-macs\\.venv\\lib\\site-packages (from clip==1.0) (0.20.0+cu124)\n",
      "Requirement already satisfied: wcwidth in d:\\work\\coding\\vuzz\\new\\mirea_7_semester_vt\\rsppr\\safe-macs\\.venv\\lib\\site-packages (from ftfy->clip==1.0) (0.2.13)\n",
      "Requirement already satisfied: filelock in d:\\work\\coding\\vuzz\\new\\mirea_7_semester_vt\\rsppr\\safe-macs\\.venv\\lib\\site-packages (from torch->clip==1.0) (3.13.1)\n",
      "Requirement already satisfied: typing-extensions>=4.8.0 in d:\\work\\coding\\vuzz\\new\\mirea_7_semester_vt\\rsppr\\safe-macs\\.venv\\lib\\site-packages (from torch->clip==1.0) (4.9.0)\n",
      "Requirement already satisfied: networkx in d:\\work\\coding\\vuzz\\new\\mirea_7_semester_vt\\rsppr\\safe-macs\\.venv\\lib\\site-packages (from torch->clip==1.0) (3.2.1)\n",
      "Requirement already satisfied: jinja2 in d:\\work\\coding\\vuzz\\new\\mirea_7_semester_vt\\rsppr\\safe-macs\\.venv\\lib\\site-packages (from torch->clip==1.0) (3.1.3)\n",
      "Requirement already satisfied: fsspec in d:\\work\\coding\\vuzz\\new\\mirea_7_semester_vt\\rsppr\\safe-macs\\.venv\\lib\\site-packages (from torch->clip==1.0) (2024.2.0)\n",
      "Requirement already satisfied: sympy==1.13.1 in d:\\work\\coding\\vuzz\\new\\mirea_7_semester_vt\\rsppr\\safe-macs\\.venv\\lib\\site-packages (from torch->clip==1.0) (1.13.1)\n",
      "Requirement already satisfied: mpmath<1.4,>=1.1.0 in d:\\work\\coding\\vuzz\\new\\mirea_7_semester_vt\\rsppr\\safe-macs\\.venv\\lib\\site-packages (from sympy==1.13.1->torch->clip==1.0) (1.3.0)\n",
      "Requirement already satisfied: numpy in d:\\work\\coding\\vuzz\\new\\mirea_7_semester_vt\\rsppr\\safe-macs\\.venv\\lib\\site-packages (from torchvision->clip==1.0) (1.26.3)\n",
      "Requirement already satisfied: pillow!=8.3.*,>=5.3.0 in d:\\work\\coding\\vuzz\\new\\mirea_7_semester_vt\\rsppr\\safe-macs\\.venv\\lib\\site-packages (from torchvision->clip==1.0) (10.2.0)\n",
      "Requirement already satisfied: colorama in d:\\work\\coding\\vuzz\\new\\mirea_7_semester_vt\\rsppr\\safe-macs\\.venv\\lib\\site-packages (from tqdm->clip==1.0) (0.4.6)\n",
      "Requirement already satisfied: MarkupSafe>=2.0 in d:\\work\\coding\\vuzz\\new\\mirea_7_semester_vt\\rsppr\\safe-macs\\.venv\\lib\\site-packages (from jinja2->torch->clip==1.0) (2.1.5)\n",
      "Downloading ftfy-6.3.1-py3-none-any.whl (44 kB)\n",
      "Downloading regex-2024.9.11-cp311-cp311-win_amd64.whl (274 kB)\n",
      "Building wheels for collected packages: clip\n",
      "  Building wheel for clip (pyproject.toml): started\n",
      "  Building wheel for clip (pyproject.toml): finished with status 'done'\n",
      "  Created wheel for clip: filename=clip-1.0-py3-none-any.whl size=1369572 sha256=b16b54b60dabb82f9a115b57c68c070cbb9b4c95681b0fe685368fa1754ea99a\n",
      "  Stored in directory: C:\\Users\\user\\AppData\\Local\\Temp\\pip-ephem-wheel-cache-669yzp6x\\wheels\\3f\\7c\\a4\\9b490845988bf7a4db33674d52f709f088f64392063872eb9a\n",
      "Successfully built clip\n",
      "Installing collected packages: regex, ftfy, clip\n",
      "Successfully installed clip-1.0 ftfy-6.3.1 regex-2024.9.11\n",
      "Note: you may need to restart the kernel to use updated packages.\n"
     ]
    },
    {
     "name": "stderr",
     "output_type": "stream",
     "text": [
      "  Running command git clone --filter=blob:none --quiet https://github.com/openai/CLIP.git 'C:\\Users\\user\\AppData\\Local\\Temp\\pip-req-build-mhxuf5ha'\n"
     ]
    }
   ],
   "source": [
    "%pip install git+https://github.com/openai/CLIP.git"
   ]
  },
  {
   "cell_type": "code",
   "execution_count": 2,
   "metadata": {},
   "outputs": [],
   "source": [
    "import torch\n",
    "import clip\n",
    "from PIL import Image"
   ]
  },
  {
   "cell_type": "code",
   "execution_count": 3,
   "metadata": {},
   "outputs": [
    {
     "name": "stderr",
     "output_type": "stream",
     "text": [
      "100%|███████████████████████████████████████| 338M/338M [00:21<00:00, 16.2MiB/s]\n"
     ]
    }
   ],
   "source": [
    "device = \"cuda\" if torch.cuda.is_available() else \"cpu\"\n",
    "model, preprocess = clip.load(\"ViT-B/32\", device=device)"
   ]
  },
  {
   "cell_type": "code",
   "execution_count": 6,
   "metadata": {},
   "outputs": [],
   "source": [
    "image = preprocess(Image.open(\"D:/Work/coding/vuzz/new/MIREA_7_semester_VT/rsppr/SAFE-MACS/data/cppe5/test/images/540_jpg.rf.c38ef2dc044f14b40238f33a205656db.jpg\")).unsqueeze(0).to(device)\n",
    "text = clip.tokenize([\"a coverall\", \"a face shield\", \"gloves\", \"goggles\", \"a mask\"]).to(device)"
   ]
  },
  {
   "cell_type": "code",
   "execution_count": 7,
   "metadata": {},
   "outputs": [
    {
     "name": "stdout",
     "output_type": "stream",
     "text": [
      "Label probs: [[0.2578  0.5293  0.02289 0.0683  0.1218 ]]\n"
     ]
    }
   ],
   "source": [
    "with torch.no_grad():\n",
    "    image_features = model.encode_image(image)\n",
    "    text_features = model.encode_text(text)\n",
    "    \n",
    "    logits_per_image, logits_per_text = model(image, text)\n",
    "    probs = logits_per_image.softmax(dim=-1).cpu().numpy()\n",
    "\n",
    "print(\"Label probs:\", probs)"
   ]
  }
 ],
 "metadata": {
  "kernelspec": {
   "display_name": ".venv",
   "language": "python",
   "name": "python3"
  },
  "language_info": {
   "codemirror_mode": {
    "name": "ipython",
    "version": 3
   },
   "file_extension": ".py",
   "mimetype": "text/x-python",
   "name": "python",
   "nbconvert_exporter": "python",
   "pygments_lexer": "ipython3",
   "version": "3.11.7"
  }
 },
 "nbformat": 4,
 "nbformat_minor": 2
}
